{
  "metadata": {
    "kernelspec": {
      "name": "python",
      "display_name": "Python (Pyodide)",
      "language": "python"
    },
    "language_info": {
      "codemirror_mode": {
        "name": "python",
        "version": 3
      },
      "file_extension": ".py",
      "mimetype": "text/x-python",
      "name": "python",
      "nbconvert_exporter": "python",
      "pygments_lexer": "ipython3",
      "version": "3.8"
    }
  },
  "nbformat_minor": 4,
  "nbformat": 4,
  "cells": [
    {
      "cell_type": "markdown",
      "source": "# Data Science Tools and Ecosystem",
      "metadata": {}
    },
    {
      "cell_type": "markdown",
      "source": "#### In this notebook, Data Science Tools and Ecosystem are summarized.",
      "metadata": {}
    },
    {
      "cell_type": "markdown",
      "source": "#### Some of the popular languages that Data Scientists use are:\n1. Python\n2. R\n3. SQL",
      "metadata": {}
    },
    {
      "cell_type": "markdown",
      "source": "# Objectives:\n#### List popular languages for Data Science\n+ SQL\n+ R\n+ Python\n+ Excel\n+ java",
      "metadata": {}
    },
    {
      "cell_type": "markdown",
      "source": "#### Some of the commonly used libraries used by Data Scientists include:\n1. scientific computing library\n2. visualization library\n3. high level machine learning",
      "metadata": {}
    },
    {
      "cell_type": "markdown",
      "source": "|Data|Science|Tools|\n|---------|-----------|--------|\n| Jupyter notebook| Visual studio code| Rstudio |",
      "metadata": {}
    },
    {
      "cell_type": "markdown",
      "source": "\n### Below are a few examples of evaluating arithmetic expressions in Python",
      "metadata": {}
    },
    {
      "cell_type": "code",
      "source": "#### This a simple arithmetic expression to mutiply then add integers\ndef multiply_and_add( num1 , num2, num3 ):\n    # multiply num1 and num2\n    product = num1 * num2\n    # add num3 to the product\n    result = product + num3\n    return result\n# test the function\nnum1 = 3\nnum2 = 4\nnum3 = 5\n\nresult = multiply_and_add(num1, num2, num3)\nprint('the result is:',result)\n",
      "metadata": {
        "trusted": true
      },
      "outputs": [
        {
          "name": "stdout",
          "text": "the result is: 17\n",
          "output_type": "stream"
        }
      ],
      "execution_count": 1
    },
    {
      "cell_type": "code",
      "source": "#### This will convert 200 minutes to hours by diving by 60\ndef convert_minutes_to_hours (minutes):\n    hours = minutes / 60\n    return hours\n# Test the function\nminutes = 200\nhours = convert_minutes_to_hours (minutes)\nprint(f\"{minutes} minutes is equal to {hours} hours\")",
      "metadata": {
        "trusted": true
      },
      "outputs": [
        {
          "name": "stdout",
          "text": "200 minutes is equal to 3.3333333333333335 hours\n",
          "output_type": "stream"
        }
      ],
      "execution_count": 2
    },
    {
      "cell_type": "markdown",
      "source": "## Author\n#### Ajiboye Tosin Blessing",
      "metadata": {}
    }
  ]
}